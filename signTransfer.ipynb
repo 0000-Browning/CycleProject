{
 "cells": [
  {
   "cell_type": "code",
   "execution_count": 12,
   "metadata": {},
   "outputs": [
    {
     "name": "stdout",
     "output_type": "stream",
     "text": [
      "Requirement already satisfied: tensorflow-hub in c:\\users\\jake3\\miniconda3\\envs\\numpy-ds\\lib\\site-packages (0.12.0)\n",
      "Requirement already satisfied: protobuf>=3.8.0 in c:\\users\\jake3\\miniconda3\\envs\\numpy-ds\\lib\\site-packages (from tensorflow-hub) (3.20.1)\n",
      "Requirement already satisfied: numpy>=1.12.0 in c:\\users\\jake3\\miniconda3\\envs\\numpy-ds\\lib\\site-packages (from tensorflow-hub) (1.23.5)\n"
     ]
    }
   ],
   "source": [
    "!pip install --upgrade tensorflow-hub"
   ]
  },
  {
   "cell_type": "code",
   "execution_count": 14,
   "metadata": {},
   "outputs": [],
   "source": [
    "import tensorflow as tf\n",
    "import tensorflow_hub as hub\n",
    "\n",
    "import numpy as np\n",
    "import matplotlib.pyplot as plt\n",
    "import pandas as pd\n",
    "\n"
   ]
  },
  {
   "cell_type": "code",
   "execution_count": 19,
   "metadata": {},
   "outputs": [
    {
     "data": {
      "text/plain": [
       "(7172, 785)"
      ]
     },
     "execution_count": 19,
     "metadata": {},
     "output_type": "execute_result"
    }
   ],
   "source": [
    "#read the test data\n",
    "testdata = pd.read_csv(\n",
    "    \"sign_mnist_test.csv\"\n",
    ")\n",
    "testdata.shape"
   ]
  },
  {
   "cell_type": "code",
   "execution_count": 20,
   "metadata": {},
   "outputs": [],
   "source": [
    "#process the features\n",
    "testFeatures = testdata.iloc[:, 1:785]\n",
    "XT = testFeatures.to_numpy()\n",
    "XT = XT.reshape(-1, 28, 28)"
   ]
  },
  {
   "cell_type": "code",
   "execution_count": 21,
   "metadata": {},
   "outputs": [],
   "source": [
    "#process the labels\n",
    "testLabels = testdata.iloc[:, 0]\n",
    "testLabels.shape\n",
    "YT = testLabels.to_numpy()"
   ]
  },
  {
   "cell_type": "code",
   "execution_count": 22,
   "metadata": {},
   "outputs": [
    {
     "data": {
      "text/plain": [
       "(27455, 785)"
      ]
     },
     "execution_count": 22,
     "metadata": {},
     "output_type": "execute_result"
    }
   ],
   "source": [
    "#read the training data\n",
    "rawdata = pd.read_csv(\n",
    "    \"sign_mnist_train.csv\",\n",
    "    )\n",
    "rawdata.shape\n"
   ]
  },
  {
   "cell_type": "code",
   "execution_count": 8,
   "metadata": {},
   "outputs": [],
   "source": [
    "#process the features\n",
    "trainFeatures = rawdata.iloc[:, 1:785]\n",
    "X = trainFeatures.to_numpy()\n",
    "X = X.reshape(-1, 28, 28)"
   ]
  },
  {
   "cell_type": "code",
   "execution_count": 9,
   "metadata": {},
   "outputs": [],
   "source": [
    "#process the labels\n",
    "trainLabels = rawdata.iloc[:, 0]\n",
    "trainLabels.shape\n",
    "Y = trainLabels.to_numpy()"
   ]
  },
  {
   "cell_type": "code",
   "execution_count": null,
   "metadata": {},
   "outputs": [],
   "source": [
    "#assign names to the classes\n",
    "class_names = ['A','B','C','D','E','F','G','H','I','J','K','L','M','N','O','P','Q','R','S','T','U','V','W','X','Y','Z']\n",
    "\n",
    "#display some examples\n",
    "plt.figure(figsize=(10,10))\n",
    "for i in range(25):\n",
    "    plt.subplot(5,5,i+1)\n",
    "    plt.xticks([])\n",
    "    plt.yticks([])\n",
    "    plt.grid(False)\n",
    "    plt.imshow(X[i], cmap=plt.cm.binary)\n",
    "    plt.xlabel(class_names[Y[i]])\n",
    "plt.show()"
   ]
  },
  {
   "cell_type": "code",
   "execution_count": 1,
   "metadata": {},
   "outputs": [
    {
     "ename": "NameError",
     "evalue": "name 'tf' is not defined",
     "output_type": "error",
     "traceback": [
      "\u001b[1;31m---------------------------------------------------------------------------\u001b[0m",
      "\u001b[1;31mNameError\u001b[0m                                 Traceback (most recent call last)",
      "Cell \u001b[1;32mIn[1], line 7\u001b[0m\n\u001b[0;32m      3\u001b[0m classifier_model \u001b[39m=\u001b[39m mobilenet_v2\n\u001b[0;32m      5\u001b[0m IMAGE_SHAPE \u001b[39m=\u001b[39m (\u001b[39m224\u001b[39m, \u001b[39m224\u001b[39m)\n\u001b[1;32m----> 7\u001b[0m classifer \u001b[39m=\u001b[39m tf\u001b[39m.\u001b[39mkeras\u001b[39m.\u001b[39mSequential([\n\u001b[0;32m      8\u001b[0m     hub\u001b[39m.\u001b[39mKerasLayer(classifier_model, input_shape \u001b[39m=\u001b[39m IMAGE_SHAPE \u001b[39m+\u001b[39m (\u001b[39m3\u001b[39m,))\n\u001b[0;32m      9\u001b[0m ])\n",
      "\u001b[1;31mNameError\u001b[0m: name 'tf' is not defined"
     ]
    }
   ],
   "source": [
    "mobilenet_v2 =\"https://tfhub.dev/google/tf2-preview/mobilenet_v2/classification/4\"\n",
    "\n",
    "classifier_model = mobilenet_v2\n",
    "\n",
    "IMAGE_SHAPE = (224, 224)\n",
    "\n",
    "classifer = tf.keras.Sequential([\n",
    "    hub.KerasLayer(classifier_model, input_shape = IMAGE_SHAPE + (3,))\n",
    "])\n"
   ]
  },
  {
   "cell_type": "code",
   "execution_count": 10,
   "metadata": {},
   "outputs": [
    {
     "name": "stdout",
     "output_type": "stream",
     "text": [
      "Epoch 1/10\n",
      "28/28 [==============================] - 7s 205ms/step - loss: 5.7280 - accuracy: 0.0476\n",
      "Epoch 2/10\n",
      "28/28 [==============================] - 6s 204ms/step - loss: 3.0926 - accuracy: 0.0831\n",
      "Epoch 3/10\n",
      "28/28 [==============================] - 5s 193ms/step - loss: 2.8157 - accuracy: 0.1536\n",
      "Epoch 4/10\n",
      "28/28 [==============================] - 6s 206ms/step - loss: 2.2933 - accuracy: 0.2908\n",
      "Epoch 5/10\n",
      "28/28 [==============================] - 6s 201ms/step - loss: 1.7664 - accuracy: 0.4393\n",
      "Epoch 6/10\n",
      "28/28 [==============================] - 5s 196ms/step - loss: 1.4591 - accuracy: 0.5252\n",
      "Epoch 7/10\n",
      "28/28 [==============================] - 6s 200ms/step - loss: 1.2375 - accuracy: 0.5899\n",
      "Epoch 8/10\n",
      "28/28 [==============================] - 7s 235ms/step - loss: 1.0922 - accuracy: 0.6345\n",
      "Epoch 9/10\n",
      "28/28 [==============================] - 6s 222ms/step - loss: 0.9679 - accuracy: 0.6719\n",
      "Epoch 10/10\n",
      "28/28 [==============================] - 6s 214ms/step - loss: 0.8612 - accuracy: 0.7052\n",
      "858/858 [==============================] - 4s 4ms/step - loss: 0.8120 - accuracy: 0.7142\n"
     ]
    },
    {
     "data": {
      "text/plain": [
       "[0.8120364546775818, 0.7141504287719727]"
      ]
     },
     "execution_count": 10,
     "metadata": {},
     "output_type": "execute_result"
    }
   ],
   "source": [
    "#create the model\n",
    "model = tf.keras.Sequential([\n",
    "    tf.keras.layers.Conv2D(10, (3,3), activation=\"relu\", input_shape = (28,28,1)),\n",
    "    tf.keras.layers.MaxPool2D(pool_size= [2,2]),\n",
    "    tf.keras.layers.Conv2D(10, (3,3), activation=\"relu\"),\n",
    "    tf.keras.layers.MaxPool2D(pool_size=[2,2]),\n",
    "    tf.keras.layers.Conv2D(10, (3,3), activation=\"relu\"),\n",
    "    tf.keras.layers.MaxPool2D(pool_size=[2,2]),\n",
    "\n",
    "    tf.keras.layers.Flatten(),\n",
    "    tf.keras.layers.Dense(100, activation=\"relu\"),\n",
    "    tf.keras.layers.Dense(26, activation = \"softmax\")\n",
    "])\n",
    "\n",
    "#complile and fit the model\n",
    "model.compile(optimizer = \"adam\", loss = 'sparse_categorical_crossentropy', metrics = ['accuracy'])\n",
    "model.fit(X, Y, epochs = 10, batch_size= 1000)\n",
    "model.evaluate(X,Y)"
   ]
  },
  {
   "cell_type": "code",
   "execution_count": 79,
   "metadata": {},
   "outputs": [
    {
     "name": "stdout",
     "output_type": "stream",
     "text": [
      "225/225 [==============================] - 1s 4ms/step - loss: 1.5754 - accuracy: 0.4826\n",
      "225/225 [==============================] - 1s 3ms/step\n"
     ]
    }
   ],
   "source": [
    "#Evaluate the model\n",
    "model.evaluate(XT,YT)\n",
    "predictions = model.predict(XT)"
   ]
  },
  {
   "cell_type": "code",
   "execution_count": null,
   "metadata": {},
   "outputs": [],
   "source": [
    "predictions[2502]\n",
    "for i in range(26):\n",
    "    \n",
    "    print(class_names[i] + \": \")\n",
    "    print(predictions[2502][i])"
   ]
  },
  {
   "cell_type": "code",
   "execution_count": 23,
   "metadata": {},
   "outputs": [
    {
     "ename": "NameError",
     "evalue": "name 'class_names' is not defined",
     "output_type": "error",
     "traceback": [
      "\u001b[1;31m---------------------------------------------------------------------------\u001b[0m",
      "\u001b[1;31mNameError\u001b[0m                                 Traceback (most recent call last)",
      "Cell \u001b[1;32mIn[23], line 9\u001b[0m\n\u001b[0;32m      7\u001b[0m \u001b[39m#plt.colorbar()\u001b[39;00m\n\u001b[0;32m      8\u001b[0m plt\u001b[39m.\u001b[39mgrid(\u001b[39mFalse\u001b[39;00m)\n\u001b[1;32m----> 9\u001b[0m plt\u001b[39m.\u001b[39mxlabel(class_names[YT[item]])\n\u001b[0;32m     10\u001b[0m plt\u001b[39m.\u001b[39mshow()\n",
      "\u001b[1;31mNameError\u001b[0m: name 'class_names' is not defined"
     ]
    },
    {
     "data": {
      "image/png": "[encoded data removed]",
      "text/plain": [
       "<Figure size 640x480 with 1 Axes>"
      ]
     },
     "metadata": {},
     "output_type": "display_data"
    }
   ],
   "source": [
    "#item for the next blocks\n",
    "item = 1424\n",
    "\n",
    "#show the true information about the item in question\n",
    "plt.figure()\n",
    "plt.imshow(XT[item],cmap=\"cividis\")#, interpolation=\"bicubic\")\n",
    "#plt.colorbar()\n",
    "plt.grid(False)\n",
    "plt.xlabel(class_names[YT[item]])\n",
    "plt.show()"
   ]
  },
  {
   "cell_type": "code",
   "execution_count": 141,
   "metadata": {},
   "outputs": [
    {
     "data": {
      "text/plain": [
       "Text(0, 0.5, 'Confidence')"
      ]
     },
     "execution_count": 141,
     "metadata": {},
     "output_type": "execute_result"
    },
    {
     "data": {
      "image/png": "[encoded data removed]",
      "text/plain": [
       "<Figure size 640x480 with 1 Axes>"
      ]
     },
     "metadata": {},
     "output_type": "display_data"
    }
   ],
   "source": [
    "#display guesses and confidences\n",
    "plt.figure\n",
    "plt.bar(class_names, predictions[item])\n",
    "plt.xlabel(\"Guess\")\n",
    "plt.ylabel(\"Confidence\")\n"
   ]
  }
 ],
 "metadata": {
  "kernelspec": {
   "display_name": "numpy-ds",
   "language": "python",
   "name": "python3"
  },
  "language_info": {
   "codemirror_mode": {
    "name": "ipython",
    "version": 3
   },
   "file_extension": ".py",
   "mimetype": "text/x-python",
   "name": "python",
   "nbconvert_exporter": "python",
   "pygments_lexer": "ipython3",
   "version": "3.9.15 (main, Nov 24 2022, 14:39:17) [MSC v.1916 64 bit (AMD64)]"
  },
  "orig_nbformat": 4,
  "vscode": {
   "interpreter": {
    "hash": "fb5e3584949b990a478653cae0d8954d0fc49cd58186cd3a8c7ce43fca74f898"
   }
  }
 },
 "nbformat": 4,
 "nbformat_minor": 2
}
